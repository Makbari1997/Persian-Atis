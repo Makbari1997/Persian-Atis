{
 "cells": [
  {
   "cell_type": "code",
   "execution_count": 1,
   "metadata": {},
   "outputs": [],
   "source": [
    "tr_sens, te_sens, dev_sens = [], [], []\n",
    "tr_slots, te_slots, dev_slots = [], [], []\n",
    "tr_intents, te_intents, dev_intents = [], [], []\n",
    "\n",
    "with open('./train/seq.in', 'r', encoding='utf-8') as f:\n",
    "    lines = f.readlines()\n",
    "    tr_sens.extend(line.split() for line in lines)\n",
    "with open('./test/seq.in', 'r', encoding='utf-8') as f:\n",
    "    lines = f.readlines()\n",
    "    te_sens.extend(line.split() for line in lines)\n",
    "with open('./dev/seq.in', 'r', encoding='utf-8') as f:\n",
    "    lines = f.readlines()\n",
    "    dev_sens.extend(line.split() for line in lines)\n",
    "\n",
    "with open('./train/seq.out', 'r', encoding='utf-8') as f:\n",
    "    lines = f.readlines()\n",
    "    tr_slots.extend(line.split() for line in lines)\n",
    "with open('./test/seq.out', 'r', encoding='utf-8') as f:\n",
    "    lines = f.readlines()\n",
    "    te_slots.extend(line.split() for line in lines)\n",
    "with open('./dev/seq.out', 'r', encoding='utf-8') as f:\n",
    "    lines = f.readlines()\n",
    "    dev_slots.extend(line.split() for line in lines)\n",
    "\n",
    "with open('./train/label', 'r', encoding='utf-8') as f:\n",
    "    lines = f.readlines()\n",
    "    tr_intents.extend(line.split()[0] for line in lines)\n",
    "with open('./test/label', 'r', encoding='utf-8') as f:\n",
    "    lines = f.readlines()\n",
    "    te_intents.extend(line.split()[0] for line in lines)\n",
    "with open('./dev/label', 'r', encoding='utf-8') as f:\n",
    "    lines = f.readlines()\n",
    "    dev_intents.extend(line.split()[0] for line in lines)"
   ]
  },
  {
   "cell_type": "code",
   "execution_count": 2,
   "metadata": {},
   "outputs": [
    {
     "ename": "NameError",
     "evalue": "name 'sens' is not defined",
     "output_type": "error",
     "traceback": [
      "\u001b[1;31m---------------------------------------------------------------------------\u001b[0m",
      "\u001b[1;31mNameError\u001b[0m                                 Traceback (most recent call last)",
      "\u001b[1;32m~\\AppData\\Local\\Temp\\ipykernel_8544\\396333204.py\u001b[0m in \u001b[0;36m<module>\u001b[1;34m\u001b[0m\n\u001b[0;32m      1\u001b[0m \u001b[0mc\u001b[0m \u001b[1;33m=\u001b[0m \u001b[1;36m0\u001b[0m\u001b[1;33m\u001b[0m\u001b[1;33m\u001b[0m\u001b[0m\n\u001b[1;32m----> 2\u001b[1;33m \u001b[1;32mfor\u001b[0m \u001b[0mi\u001b[0m\u001b[1;33m,\u001b[0m \u001b[0mj\u001b[0m \u001b[1;32min\u001b[0m \u001b[0mzip\u001b[0m\u001b[1;33m(\u001b[0m\u001b[0msens\u001b[0m\u001b[1;33m,\u001b[0m \u001b[0mslots\u001b[0m\u001b[1;33m)\u001b[0m\u001b[1;33m:\u001b[0m\u001b[1;33m\u001b[0m\u001b[1;33m\u001b[0m\u001b[0m\n\u001b[0m\u001b[0;32m      3\u001b[0m     \u001b[1;32mif\u001b[0m \u001b[0mlen\u001b[0m\u001b[1;33m(\u001b[0m\u001b[0mi\u001b[0m\u001b[1;33m)\u001b[0m \u001b[1;33m!=\u001b[0m \u001b[0mlen\u001b[0m\u001b[1;33m(\u001b[0m\u001b[0mj\u001b[0m\u001b[1;33m)\u001b[0m\u001b[1;33m:\u001b[0m\u001b[1;33m\u001b[0m\u001b[1;33m\u001b[0m\u001b[0m\n\u001b[0;32m      4\u001b[0m         \u001b[0mprint\u001b[0m\u001b[1;33m(\u001b[0m\u001b[0mc\u001b[0m\u001b[1;33m)\u001b[0m\u001b[1;33m\u001b[0m\u001b[1;33m\u001b[0m\u001b[0m\n\u001b[0;32m      5\u001b[0m     \u001b[0mc\u001b[0m \u001b[1;33m+=\u001b[0m \u001b[1;36m1\u001b[0m\u001b[1;33m\u001b[0m\u001b[1;33m\u001b[0m\u001b[0m\n",
      "\u001b[1;31mNameError\u001b[0m: name 'sens' is not defined"
     ]
    }
   ],
   "source": [
    "c = 0\n",
    "for i, j in zip(sens, slots):\n",
    "    if len(i) != len(j):\n",
    "        print(c)\n",
    "    c += 1"
   ]
  },
  {
   "cell_type": "code",
   "execution_count": 3,
   "metadata": {},
   "outputs": [],
   "source": [
    "intent_label = list(set([i for i in tr_intents + te_intents + dev_intents]))\n",
    "slot_label = list(set([j for i in tr_slots + te_slots + dev_slots for j in i]))\n",
    "word_vocab = list(set([j for i in tr_sens for j in i]))"
   ]
  },
  {
   "cell_type": "code",
   "execution_count": 4,
   "metadata": {},
   "outputs": [],
   "source": [
    "with open('intent_label.txt', 'w', encoding='utf-8') as f:\n",
    "    for i in intent_label:\n",
    "        f.write('{}\\n'.format(i))\n",
    "with open('slot_label.txt', 'w', encoding='utf-8') as f:\n",
    "    for i in slot_label:\n",
    "        f.write('{}\\n'.format(i))\n",
    "with open('word_vocab.txt', 'w', encoding='utf-8') as f:\n",
    "    for i in word_vocab:\n",
    "        f.write('{}\\n'.format(i))"
   ]
  }
 ],
 "metadata": {
  "kernelspec": {
   "display_name": "Python 3",
   "language": "python",
   "name": "python3"
  },
  "language_info": {
   "codemirror_mode": {
    "name": "ipython",
    "version": 3
   },
   "file_extension": ".py",
   "mimetype": "text/x-python",
   "name": "python",
   "nbconvert_exporter": "python",
   "pygments_lexer": "ipython3",
   "version": "3.7.9"
  },
  "orig_nbformat": 4,
  "vscode": {
   "interpreter": {
    "hash": "ae1f165465835e2cb6b5fceb256823d0ef9f76f85789d1da3312dd750aecaffe"
   }
  }
 },
 "nbformat": 4,
 "nbformat_minor": 2
}
